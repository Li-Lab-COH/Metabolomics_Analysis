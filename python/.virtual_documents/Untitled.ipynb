import re
import numpy as np
import pandas as pd
from scipy.stats import hypergeom, chi2
from pathlib import Path








results_dir = Path("/Users/janzules/Roselab/Metabolite/results/difference/limma/intraArm/")

files = [f for f in results_dir.iterdir() if f.is_file()]

B0 = files[2]
D5 = files[1]
F3 = files[3]
F6 = files[0]


# Selecting final file
met_df = pd.read_csv(B0)


FEATURE_COL   = "Index"       # change to your unique metabolite identifier column if different
# KEGG_COL      = "kegg_map"   # column with strings like "ko04211,ko04218"
LOGFC_COL     = "logFC"       # optional; used for up/down splits
ADJP_COL      = "adj.P.Val"   # preferred, if present
PVAL_COL      = "P.Value"     # fallback if no adj.P.Val present

ALPHA         = 0.05
MIN_SET_SIZE  = 3
MAX_SET_SIZE  = 5000





# Parse Kegg id's
pattern = re.compile(r'(?:ko|map|hsa)?(\d{5})$')

# Split on comma/semicolon/pipe/space, strip, keep unique 5-digit codes, sorted for stability
parsed_series = (
    met_df["kegg_map"]
    .astype(str)
    .map(lambda x: re.split(r',', x) if x.strip() != "-" else [])
    .map(lambda toks: sorted({m.group(1) for t in toks if (m := pattern.match(t.strip()))}))
)





tmp = met_df.copy()
tmp["kegg_ids"] = parsed_series
